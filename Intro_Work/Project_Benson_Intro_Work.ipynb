{
 "cells": [
  {
   "cell_type": "code",
   "execution_count": 1,
   "metadata": {
    "collapsed": false
   },
   "outputs": [
    {
     "name": "stdout",
     "output_type": "stream",
     "text": [
      "Untitled.ipynb\r\n"
     ]
    }
   ],
   "source": [
    "!ls"
   ]
  },
  {
   "cell_type": "code",
   "execution_count": 3,
   "metadata": {
    "collapsed": false
   },
   "outputs": [
    {
     "name": "stdout",
     "output_type": "stream",
     "text": [
      "shiny_new_file.txt  Untitled.ipynb\r\n"
     ]
    }
   ],
   "source": [
    "toy_file = open(\"shiny_new_file.txt\", \"w\")\n",
    "toy_file.write(\"hey guys \\n\")\n",
    "toy_file.write(\"what's up \\n\")\n",
    "toy_file.close()\n",
    "!ls"
   ]
  },
  {
   "cell_type": "code",
   "execution_count": 6,
   "metadata": {
    "collapsed": false
   },
   "outputs": [
    {
     "name": "stdout",
     "output_type": "stream",
     "text": [
      "even_newer_file.txt  Project_Benson_Intro_Work.ipynb  shiny_new_file.txt\r\n"
     ]
    }
   ],
   "source": [
    "our_file = open(\"shiny_new_file.txt\", \"r\")\n",
    "new_file = open(\"even_newer_file.txt\", \"w\")\n",
    "new_file.write(our_file.read())\n",
    "our_file.close()\n",
    "new_file.close()\n",
    "!ls"
   ]
  },
  {
   "cell_type": "code",
   "execution_count": 7,
   "metadata": {
    "collapsed": false
   },
   "outputs": [
    {
     "name": "stdout",
     "output_type": "stream",
     "text": [
      "hey guys \r\n",
      "what's up \r\n"
     ]
    }
   ],
   "source": [
    "!cat even_newer_file.txt"
   ]
  },
  {
   "cell_type": "code",
   "execution_count": 13,
   "metadata": {
    "collapsed": false
   },
   "outputs": [
    {
     "name": "stdout",
     "output_type": "stream",
     "text": [
      "even_newer_file.txt\t\t shiny_new_file.txt\r\n",
      "Project_Benson_Intro_Work.ipynb  shutterstock_python_0.jpg\r\n"
     ]
    }
   ],
   "source": [
    "import urllib2\n",
    "online_image_file = urllib2.urlopen(\"http://malwaredoc.com/wp-content/uploads/2014/05/shutterstock_python_0.jpg\")\n",
    "local_file = open(\"shutterstock_python_0.jpg\" , \"w\")\n",
    "local_file.write(online_image_file.read())\n",
    "local_file.close()\n",
    "online_image_file.close()\n",
    "!ls"
   ]
  },
  {
   "cell_type": "code",
   "execution_count": 15,
   "metadata": {
    "collapsed": false
   },
   "outputs": [
    {
     "name": "stdout",
     "output_type": "stream",
     "text": [
      "even_newer_file.txt\t\t shiny_new_file.txt\n",
      "Project_Benson_Intro_Work.ipynb  shutterstock_python_0.jpg\n",
      "Couldn't get a file descriptor referring to the console\n"
     ]
    }
   ],
   "source": [
    "!ls\n",
    "!open shutterstock_python_0.jpg"
   ]
  },
  {
   "cell_type": "markdown",
   "metadata": {},
   "source": []
  },
  {
   "cell_type": "code",
   "execution_count": 17,
   "metadata": {
    "collapsed": false
   },
   "outputs": [
    {
     "name": "stdout",
     "output_type": "stream",
     "text": [
      "3 + 7 = 10.4"
     ]
    }
   ],
   "source": [
    "skneher_super_math = 3 + 7.4\n",
    "with open(\"super_math_results.txt\", \"w\") as results:\n",
    "    results.write(\"3 + 7 = \")\n",
    "    results.write(str(skneher_super_math))\n",
    "    \n",
    "!cat super_math_results.txt"
   ]
  },
  {
   "cell_type": "code",
   "execution_count": 18,
   "metadata": {
    "collapsed": false
   },
   "outputs": [
    {
     "name": "stdout",
     "output_type": "stream",
     "text": [
      "Bo,is,awesome\r",
      "\r\n",
      "Aaron,is,awesome\r",
      "\r\n"
     ]
    }
   ],
   "source": [
    "import csv\n",
    "with open(\"new_csv_toy.csv\", \"w\") as csv_output:\n",
    "    writer = csv.writer(csv_output)\n",
    "    row1 = [\"Bo\", \"is\", \"awesome\"]\n",
    "    row2 = [\"Aaron\", \"is\", \"awesome\"]\n",
    "    writer.writerow(row1)\n",
    "    writer.writerow(row2)\n",
    "    \n",
    "!cat new_csv_toy.csv"
   ]
  },
  {
   "cell_type": "markdown",
   "metadata": {},
   "source": [
    "### Now let's explore some MTA data"
   ]
  },
  {
   "cell_type": "code",
   "execution_count": 19,
   "metadata": {
    "collapsed": false
   },
   "outputs": [
    {
     "name": "stdout",
     "output_type": "stream",
     "text": [
      "--2015-04-07 11:21:43--  http://web.mta.info/developers/data/nyct/turnstile/turnstile_150404.txt\n",
      "Resolving web.mta.info (web.mta.info)... 63.88.100.202, 63.88.100.170\n",
      "Connecting to web.mta.info (web.mta.info)|63.88.100.202|:80... connected.\n",
      "HTTP request sent, awaiting response... 200 OK\n",
      "Length: unspecified [text/plain]\n",
      "Saving to: ‘turnstile_150404.txt’\n",
      "\n",
      "    [             <=>                       ] 25,071,566   893KB/s   in 53s    \n",
      "\n",
      "2015-04-07 11:22:37 (462 KB/s) - ‘turnstile_150404.txt’ saved [25071566]\n",
      "\n"
     ]
    }
   ],
   "source": [
    "!wget http://web.mta.info/developers/data/nyct/turnstile/turnstile_150404.txt"
   ]
  },
  {
   "cell_type": "code",
   "execution_count": 20,
   "metadata": {
    "collapsed": false
   },
   "outputs": [
    {
     "name": "stdout",
     "output_type": "stream",
     "text": [
      "even_newer_file.txt\t\t shiny_new_file.txt\t    turnstile_150404.txt\r\n",
      "new_csv_toy.csv\t\t\t shutterstock_python_0.jpg\r\n",
      "Project_Benson_Intro_Work.ipynb  super_math_results.txt\r\n"
     ]
    }
   ],
   "source": [
    "!ls"
   ]
  },
  {
   "cell_type": "code",
   "execution_count": 21,
   "metadata": {
    "collapsed": false
   },
   "outputs": [
    {
     "name": "stdout",
     "output_type": "stream",
     "text": [
      "C/A,UNIT,SCP,STATION,LINENAME,DIVISION,DATE,TIME,DESC,ENTRIES,EXITS                                                               \r\n",
      "A002,R051,02-00-00,LEXINGTON AVE,NQR456,BMT,03/28/2015,00:00:00,REGULAR,0005065968,0001716046                                     \r\n",
      "A002,R051,02-00-00,LEXINGTON AVE,NQR456,BMT,03/28/2015,04:00:00,REGULAR,0005066006,0001716049                                     \r\n",
      "A002,R051,02-00-00,LEXINGTON AVE,NQR456,BMT,03/28/2015,08:00:00,REGULAR,0005066018,0001716072                                     \r\n",
      "A002,R051,02-00-00,LEXINGTON AVE,NQR456,BMT,03/28/2015,12:00:00,REGULAR,0005066153,0001716183                                     \r\n",
      "A002,R051,02-00-00,LEXINGTON AVE,NQR456,BMT,03/28/2015,16:00:00,REGULAR,0005066453,0001716263                                     \r\n",
      "A002,R051,02-00-00,LEXINGTON AVE,NQR456,BMT,03/28/2015,20:00:00,REGULAR,0005066883,0001716327                                     \r\n",
      "A002,R051,02-00-00,LEXINGTON AVE,NQR456,BMT,03/29/2015,00:00:00,REGULAR,0005067073,0001716368                                     \r\n",
      "A002,R051,02-00-00,LEXINGTON AVE,NQR456,BMT,03/29/2015,04:00:00,REGULAR,0005067111,0001716377                                     \r\n",
      "A002,R051,02-00-00,LEXINGTON AVE,NQR456,BMT,03/29/2015,08:00:00,REGULAR,0005067124,0001716394                                     \r\n"
     ]
    }
   ],
   "source": [
    "!head turnstile_150404.txt"
   ]
  },
  {
   "cell_type": "code",
   "execution_count": 23,
   "metadata": {
    "collapsed": false
   },
   "outputs": [
    {
     "name": "stdout",
     "output_type": "stream",
     "text": [
      "['A002', 'R051', '02-00-00', 'LEXINGTON AVE', 'NQR456', 'BMT', '03/28/2015', '00:00:00', 'REGULAR', '0005065968', '0001716046                                     ']\n",
      "['A002', 'R051', '02-00-00', 'LEXINGTON AVE', 'NQR456', 'BMT', '03/28/2015', '04:00:00', 'REGULAR', '0005066006', '0001716049                                     ']\n",
      "['A002', 'R051', '02-00-00', 'LEXINGTON AVE', 'NQR456', 'BMT', '03/28/2015', '08:00:00', 'REGULAR', '0005066018', '0001716072                                     ']\n",
      "['A002', 'R051', '02-00-00', 'LEXINGTON AVE', 'NQR456', 'BMT', '03/28/2015', '12:00:00', 'REGULAR', '0005066153', '0001716183                                     ']\n"
     ]
    }
   ],
   "source": [
    "LINE_NUM = 3\n",
    "with open(\"turnstile_150404.txt\", \"r\") as turnstile_file:\n",
    "    reader = csv.reader(turnstile_file)\n",
    "    \n",
    "    #ger rid of header\n",
    "    reader.next()\n",
    "    \n",
    "    for index, row in enumerate(reader):\n",
    "        print row\n",
    "        if index == LINE_NUM:\n",
    "            break"
   ]
  },
  {
   "cell_type": "code",
   "execution_count": 28,
   "metadata": {
    "collapsed": false
   },
   "outputs": [
    {
     "name": "stdout",
     "output_type": "stream",
     "text": [
      "I am processing row 0\n",
      "I am processing row 1\n",
      "I am processing row 2\n"
     ]
    },
    {
     "name": "stderr",
     "output_type": "stream",
     "text": [
      "Oh noews, row  2 failed\n"
     ]
    }
   ],
   "source": [
    "import sys\n",
    "\n",
    "with open(\"turnstile_150404.txt\" , \"r\") as turnstile_file:\n",
    "    reader = csv.reader(turnstile_file)\n",
    "    \n",
    "    three_rows = open(\"three_rows.txt\", \"w\")\n",
    "    writer = csv.writer(three_rows)\n",
    "    \n",
    "    for num, row in enumerate(reader):\n",
    "        try:\n",
    "            if num == 3:\n",
    "                break\n",
    "                \n",
    "            print \"I am processing row %i\" % num\n",
    "            # some fancy processing goes here..\n",
    "            writer.writerow(row)\n",
    "            \n",
    "            if num == 2:\n",
    "                my_value = row/2\n",
    "        except:\n",
    "            print >> sys.stderr, \"Oh noews, row % i failed\" % num\n",
    "                \n",
    "    three_rows.close()"
   ]
  },
  {
   "cell_type": "code",
   "execution_count": 29,
   "metadata": {
    "collapsed": false
   },
   "outputs": [
    {
     "name": "stdout",
     "output_type": "stream",
     "text": [
      "C/A,UNIT,SCP,STATION,LINENAME,DIVISION,DATE,TIME,DESC,ENTRIES,EXITS                                                               \r",
      "\r\n",
      "A002,R051,02-00-00,LEXINGTON AVE,NQR456,BMT,03/28/2015,00:00:00,REGULAR,0005065968,0001716046                                     \r",
      "\r\n",
      "A002,R051,02-00-00,LEXINGTON AVE,NQR456,BMT,03/28/2015,04:00:00,REGULAR,0005066006,0001716049                                     \r",
      "\r\n"
     ]
    }
   ],
   "source": [
    "!cat \"three_rows.txt\""
   ]
  },
  {
   "cell_type": "code",
   "execution_count": null,
   "metadata": {
    "collapsed": true
   },
   "outputs": [],
   "source": []
  }
 ],
 "metadata": {
  "kernelspec": {
   "display_name": "Python 2",
   "language": "python",
   "name": "python2"
  },
  "language_info": {
   "codemirror_mode": {
    "name": "ipython",
    "version": 2
   },
   "file_extension": ".py",
   "mimetype": "text/x-python",
   "name": "python",
   "nbconvert_exporter": "python",
   "pygments_lexer": "ipython2",
   "version": "2.7.6"
  }
 },
 "nbformat": 4,
 "nbformat_minor": 0
}
