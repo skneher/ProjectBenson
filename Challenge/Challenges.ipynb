{
 "cells": [
  {
   "cell_type": "code",
   "execution_count": 2,
   "metadata": {
    "collapsed": false
   },
   "outputs": [],
   "source": [
    "#Challenge 1\n",
    "\n",
    "import csv\n",
    "\n",
    "NUM_LINE = 70\n",
    "\n",
    "MTA_Dict = {}\n",
    "with open(\"turnstile_150404.txt\", \"r\") as turnstile_file:\n",
    "    reader = csv.reader(turnstile_file)\n",
    "    \n",
    "    #ger rid of header\n",
    "    reader.next()\n",
    "    \n",
    "    for index, row in enumerate(reader):\n",
    "        terminal = tuple(row[:4])\n",
    "        \n",
    "        if terminal not in MTA_Dict:\n",
    "            MTA_Dict[terminal] = []\n",
    "            MTA_Dict[terminal].append(row[4:])\n",
    "            MTA_Dict[terminal][-1][-1] = MTA_Dict[terminal][-1][-1].strip()\n",
    "            \n",
    "        else:\n",
    "            MTA_Dict[terminal].append(row[4:])\n",
    "            MTA_Dict[terminal][-1][-1] = MTA_Dict[terminal][-1][-1].strip()\n",
    "            \n",
    "        if index == NUM_LINE:\n",
    "            break\n"
   ]
  },
  {
   "cell_type": "code",
   "execution_count": 3,
   "metadata": {
    "collapsed": false
   },
   "outputs": [],
   "source": [
    "#Challenge 2\n",
    "import dateutil.parser\n",
    "\n",
    "MTA_Dict_cleaned = {}\n",
    "\n",
    "for turnstyle, turnstyle_data in MTA_Dict.iteritems():\n",
    "    #key is the individual terminals.\n",
    "    #value is the list of lists. It contains all rows of a given terminal.\n",
    "    counter = 0\n",
    "    \n",
    "    if turnstyle not in MTA_Dict_cleaned:\n",
    "        MTA_Dict_cleaned[turnstyle] = []\n",
    "    for entry in turnstyle_data:\n",
    "    #this will iterate over every row at a terminal (the list in the list)\n",
    "        counter += 1\n",
    "        temp_list = []\n",
    "        date_time = entry[2] + ' ' + entry[3]\n",
    "        date_time_parsed = dateutil.parser.parse(date_time)\n",
    "        temp_list.append(date_time_parsed)\n",
    "        \n",
    "        entries = int(entry[5])\n",
    "        try:\n",
    "            next_entries = int(turnstyle_data[counter][5])\n",
    "\n",
    "        except IndexError:\n",
    "            next_entries = int(entry[5])\n",
    "                    \n",
    "        customer_count = next_entries - entries\n",
    "        temp_list.append(customer_count)\n",
    "\n",
    "        MTA_Dict_cleaned[turnstyle].append(temp_list)\n",
    "        \n",
    "#{('A002', 'R051', '02-00-01', 'LEXINGTON AVE'): \n",
    "#[[datetime.datetime(2015, 3, 28, 0, 0), 28], \n",
    "#[datetime.datetime(2015, 3, 28, 4, 0), 12], \n",
    "#[datetime.datetime(2015, 3, 28, 8, 0), 113], \n",
    "#[datetime.datetime(2015, 3, 28, 12, 0), 272]"
   ]
  },
  {
   "cell_type": "code",
   "execution_count": 14,
   "metadata": {
    "collapsed": false
   },
   "outputs": [
    {
     "name": "stdout",
     "output_type": "stream",
     "text": [
      "Challenge 3\n"
     ]
    },
    {
     "ename": "AttributeError",
     "evalue": "'list' object has no attribute 'date'",
     "output_type": "error",
     "traceback": [
      "\u001b[1;31m---------------------------------------------------------------------------\u001b[0m",
      "\u001b[1;31mAttributeError\u001b[0m                            Traceback (most recent call last)",
      "\u001b[1;32m<ipython-input-14-4e3ed98b3a9b>\u001b[0m in \u001b[0;36m<module>\u001b[1;34m()\u001b[0m\n\u001b[0;32m     16\u001b[0m             \u001b[0mday_counter\u001b[0m \u001b[1;33m=\u001b[0m \u001b[1;36m0\u001b[0m\u001b[1;33m\u001b[0m\u001b[0m\n\u001b[0;32m     17\u001b[0m \u001b[1;33m\u001b[0m\u001b[0m\n\u001b[1;32m---> 18\u001b[1;33m             \u001b[1;32mwhile\u001b[0m \u001b[0mturnstyle_data\u001b[0m\u001b[1;33m[\u001b[0m\u001b[0mday_counter\u001b[0m\u001b[1;33m]\u001b[0m\u001b[1;33m.\u001b[0m\u001b[0mdate\u001b[0m\u001b[1;33m(\u001b[0m\u001b[1;33m)\u001b[0m \u001b[1;33m==\u001b[0m \u001b[0mturnstyle_data\u001b[0m\u001b[1;33m[\u001b[0m\u001b[0mcounter\u001b[0m\u001b[1;33m]\u001b[0m\u001b[1;33m[\u001b[0m\u001b[0mday_counter\u001b[0m\u001b[1;33m]\u001b[0m\u001b[1;33m.\u001b[0m\u001b[0mdate\u001b[0m\u001b[1;33m(\u001b[0m\u001b[1;33m)\u001b[0m\u001b[1;33m:\u001b[0m\u001b[1;33m\u001b[0m\u001b[0m\n\u001b[0m\u001b[0;32m     19\u001b[0m                 \u001b[1;32mprint\u001b[0m \u001b[1;34m\"**************Match**************\"\u001b[0m\u001b[1;33m\u001b[0m\u001b[0m\n\u001b[0;32m     20\u001b[0m                 \u001b[0mdaily_ridership\u001b[0m \u001b[1;33m+=\u001b[0m \u001b[0mentry\u001b[0m\u001b[1;33m[\u001b[0m\u001b[1;36m1\u001b[0m\u001b[1;33m]\u001b[0m\u001b[1;33m\u001b[0m\u001b[0m\n",
      "\u001b[1;31mAttributeError\u001b[0m: 'list' object has no attribute 'date'"
     ]
    }
   ],
   "source": [
    "#Challenge 3\n",
    "#Want total ridership at a terminal for a given day.\n",
    "\n",
    "print 'Challenge 3'\n",
    "\n",
    "for turnstyle, turnstyle_data in MTA_Dict_cleaned.iteritems():\n",
    "    counter = 0\n",
    "    #this counter resets when you get to the next turnstyle\n",
    "    for entry in turnstyle_data:\n",
    "    #An entry is one time interval of data ie: 00:00:00 or 04:00:00\n",
    "        counter += 1\n",
    "        #Increments as we loop over each time interval\n",
    "        #Allows me to compare the next time interval with the current\n",
    "        \n",
    "        #everything below here needs to be rewritten\n",
    "        \n",
    "        try:\n",
    "            day_counter = 0\n",
    "            \n",
    "            while turnstyle_data[day_counter][0].date() == turnstyle_data[counter][day_counter].date():\n",
    "                print \"**************Match**************\"\n",
    "                daily_ridership += entry[1]\n",
    "                day_counter += 1\n",
    "                print daily_ridership\n",
    "            else:\n",
    "                day_counter += 1\n",
    "                daily_ridership += entry[1]\n",
    "    \n",
    "                \n",
    "            print daily_ridership\n",
    "\n",
    "                \n",
    "        except IndexError:\n",
    "            pass\n",
    "            \n"
   ]
  }
 ],
 "metadata": {
  "kernelspec": {
   "display_name": "Python 2",
   "language": "python",
   "name": "python2"
  },
  "language_info": {
   "codemirror_mode": {
    "name": "ipython",
    "version": 2
   },
   "file_extension": ".py",
   "mimetype": "text/x-python",
   "name": "python",
   "nbconvert_exporter": "python",
   "pygments_lexer": "ipython2",
   "version": "2.7.6"
  }
 },
 "nbformat": 4,
 "nbformat_minor": 0
}
