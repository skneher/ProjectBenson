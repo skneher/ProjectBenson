{
 "cells": [
  {
   "cell_type": "code",
   "execution_count": 2,
   "metadata": {
    "collapsed": false
   },
   "outputs": [
    {
     "name": "stdout",
     "output_type": "stream",
     "text": [
      "--2015-04-07 11:53:53--  http://web.mta.info/developers/data/nyct/turnstile/turnstile_150404.txt\n",
      "Resolving web.mta.info (web.mta.info)... 63.88.100.170, 63.88.100.202\n",
      "Connecting to web.mta.info (web.mta.info)|63.88.100.170|:80... connected.\n",
      "HTTP request sent, awaiting response... 200 OK\n",
      "Length: unspecified [text/plain]\n",
      "Saving to: ‘turnstile_150404.txt’\n",
      "\n",
      "    [                              <=>      ] 25,071,566   436KB/s   in 42s    \n",
      "\n",
      "2015-04-07 11:54:35 (583 KB/s) - ‘turnstile_150404.txt’ saved [25071566]\n",
      "\n",
      "--2015-04-07 11:54:35--  http://web.mta.info/developers/data/nyct/turnstile/turnstile_150321.txt\n",
      "Resolving web.mta.info (web.mta.info)... 63.88.100.170, 63.88.100.202\n",
      "Connecting to web.mta.info (web.mta.info)|63.88.100.170|:80... connected.\n",
      "HTTP request sent, awaiting response... 200 OK\n",
      "Length: unspecified [text/plain]\n",
      "Saving to: ‘turnstile_150321.txt’\n",
      "\n",
      "    [                        <=>            ] 25,079,688  1.35MB/s   in 26s    \n",
      "\n",
      "2015-04-07 11:55:02 (926 KB/s) - ‘turnstile_150321.txt’ saved [25079688]\n",
      "\n",
      "--2015-04-07 11:55:02--  http://web.mta.info/developers/data/nyct/turnstile/turnstile_150314.txt\n",
      "Resolving web.mta.info (web.mta.info)... 63.88.100.202, 63.88.100.170\n",
      "Connecting to web.mta.info (web.mta.info)|63.88.100.202|:80... connected.\n",
      "HTTP request sent, awaiting response... 200 OK\n",
      "Length: unspecified [text/plain]\n",
      "Saving to: ‘turnstile_150314.txt’\n",
      "\n",
      "    [                          <=>          ] 24,855,809  1.22MB/s   in 20s    \n",
      "\n",
      "2015-04-07 11:55:22 (1.17 MB/s) - ‘turnstile_150314.txt’ saved [24855809]\n",
      "\n",
      "--2015-04-07 11:55:22--  http://web.mta.info/developers/data/nyct/turnstile/turnstile_150307.txt\n",
      "Resolving web.mta.info (web.mta.info)... 63.88.100.170, 63.88.100.202\n",
      "Connecting to web.mta.info (web.mta.info)|63.88.100.170|:80... connected.\n",
      "HTTP request sent, awaiting response... 200 OK\n",
      "Length: unspecified [text/plain]\n",
      "Saving to: ‘turnstile_150307.txt’\n",
      "\n",
      "    [                         <=>           ] 25,098,028  1.21MB/s   in 27s    \n",
      "\n",
      "2015-04-07 11:55:49 (923 KB/s) - ‘turnstile_150307.txt’ saved [25098028]\n",
      "\n",
      "--2015-04-07 11:55:49--  http://web.mta.info/developers/data/nyct/turnstile/turnstile_150228.txt\n",
      "Resolving web.mta.info (web.mta.info)... 63.88.100.170, 63.88.100.202\n",
      "Connecting to web.mta.info (web.mta.info)|63.88.100.170|:80... connected.\n",
      "HTTP request sent, awaiting response... 200 OK\n",
      "Length: unspecified [text/plain]\n",
      "Saving to: ‘turnstile_150228.txt’\n",
      "\n",
      "    [       <=>                             ] 25,214,487   778KB/s   in 29s    \n",
      "\n",
      "2015-04-07 11:56:19 (843 KB/s) - ‘turnstile_150228.txt’ saved [25214487]\n",
      "\n",
      "--2015-04-07 11:56:19--  http://web.mta.info/developers/data/nyct/turnstile/turnstile_150221.txt\n",
      "Resolving web.mta.info (web.mta.info)... 63.88.100.202, 63.88.100.170\n",
      "Connecting to web.mta.info (web.mta.info)|63.88.100.202|:80... connected.\n",
      "HTTP request sent, awaiting response... 200 OK\n",
      "Length: unspecified [text/plain]\n",
      "Saving to: ‘turnstile_150221.txt’\n",
      "\n",
      "    [                       <=>             ] 25,281,166  1.19MB/s   in 27s    \n",
      "\n",
      "2015-04-07 11:56:48 (930 KB/s) - ‘turnstile_150221.txt’ saved [25281166]\n",
      "\n",
      "--2015-04-07 11:56:48--  http://web.mta.info/developers/data/nyct/turnstile/turnstile_150214.txt\n",
      "Resolving web.mta.info (web.mta.info)... 63.88.100.184, 63.88.100.200\n",
      "Connecting to web.mta.info (web.mta.info)|63.88.100.184|:80... connected.\n",
      "HTTP request sent, awaiting response... 200 OK\n",
      "Length: unspecified [text/plain]\n",
      "Saving to: ‘turnstile_150214.txt’\n",
      "\n",
      "    [                   <=>                 ] 25,011,437  1.21MB/s   in 19s    \n",
      "\n",
      "2015-04-07 11:57:09 (1.27 MB/s) - ‘turnstile_150214.txt’ saved [25011437]\n",
      "\n",
      "--2015-04-07 11:57:09--  http://web.mta.info/developers/data/nyct/turnstile/turnstile_150207.txt\n",
      "Resolving web.mta.info (web.mta.info)... 63.88.100.184, 63.88.100.202\n",
      "Connecting to web.mta.info (web.mta.info)|63.88.100.184|:80... connected.\n",
      "HTTP request sent, awaiting response... 200 OK\n",
      "Length: unspecified [text/plain]\n",
      "Saving to: ‘turnstile_150207.txt’\n",
      "\n",
      "    [    <=>                                ] 25,262,433  1.00MB/s   in 30s    \n",
      "\n",
      "2015-04-07 11:57:41 (833 KB/s) - ‘turnstile_150207.txt’ saved [25262433]\n",
      "\n"
     ]
    }
   ],
   "source": [
    "#pulling data from the MTA website\n",
    "#raw data: http://web.mta.info/developers/data/nyct/turnstile/turnstile_150404.txt\n",
    "\n",
    "!wget http://web.mta.info/developers/data/nyct/turnstile/turnstile_150404.txt\n",
    "!wget http://web.mta.info/developers/data/nyct/turnstile/turnstile_150321.txt\n",
    "!wget http://web.mta.info/developers/data/nyct/turnstile/turnstile_150314.txt\n",
    "!wget http://web.mta.info/developers/data/nyct/turnstile/turnstile_150307.txt\n",
    "!wget http://web.mta.info/developers/data/nyct/turnstile/turnstile_150228.txt\n",
    "!wget http://web.mta.info/developers/data/nyct/turnstile/turnstile_150221.txt\n",
    "!wget http://web.mta.info/developers/data/nyct/turnstile/turnstile_150214.txt\n",
    "!wget http://web.mta.info/developers/data/nyct/turnstile/turnstile_150207.txt"
   ]
  },
  {
   "cell_type": "code",
   "execution_count": 3,
   "metadata": {
    "collapsed": false
   },
   "outputs": [],
   "source": [
    "#Challenge 1\n",
    "\n",
    "import csv\n",
    "\n",
    "NUM_LINE = 70\n",
    "\n",
    "MTA_Dict = {}\n",
    "with open(\"turnstile_150404.txt\", \"r\") as turnstile_file:\n",
    "    reader = csv.reader(turnstile_file)\n",
    "    \n",
    "    #ger rid of header\n",
    "    reader.next()\n",
    "    \n",
    "    for index, row in enumerate(reader):\n",
    "        terminal = tuple(row[:4])\n",
    "        \n",
    "        if terminal not in MTA_Dict:\n",
    "            MTA_Dict[terminal] = []\n",
    "            MTA_Dict[terminal].append(row[4:])\n",
    "            MTA_Dict[terminal][-1][-1] = MTA_Dict[terminal][-1][-1].strip()\n",
    "            \n",
    "        else:\n",
    "            MTA_Dict[terminal].append(row[4:])\n",
    "            MTA_Dict[terminal][-1][-1] = MTA_Dict[terminal][-1][-1].strip()\n",
    "            \n",
    "        if index == NUM_LINE:\n",
    "            break\n"
   ]
  },
  {
   "cell_type": "code",
   "execution_count": 22,
   "metadata": {
    "collapsed": false
   },
   "outputs": [
    {
     "name": "stdout",
     "output_type": "stream",
     "text": [
      "{('A002', 'R051', '02-00-01', 'LEXINGTON AVE'): [[datetime.datetime(2015, 3, 28, 0, 0), 28], [datetime.datetime(2015, 3, 28, 4, 0), 12], [datetime.datetime(2015, 3, 28, 8, 0), 113], [datetime.datetime(2015, 3, 28, 12, 0), 272], [datetime.datetime(2015, 3, 28, 16, 0), 336], [datetime.datetime(2015, 3, 28, 20, 0), 137], [datetime.datetime(2015, 3, 29, 0, 0), 29], [datetime.datetime(2015, 3, 29, 4, 0), 13], [datetime.datetime(2015, 3, 29, 8, 0), 81], [datetime.datetime(2015, 3, 29, 12, 0), 235], [datetime.datetime(2015, 3, 29, 16, 0), 289], [datetime.datetime(2015, 3, 29, 20, 0), 134], [datetime.datetime(2015, 3, 30, 0, 0), 8], [datetime.datetime(2015, 3, 30, 4, 0), 40], [datetime.datetime(2015, 3, 30, 8, 0), 155], [datetime.datetime(2015, 3, 30, 12, 0), 222], [datetime.datetime(2015, 3, 30, 16, 0), 813], [datetime.datetime(2015, 3, 30, 20, 0), 210], [datetime.datetime(2015, 3, 31, 0, 0), 10], [datetime.datetime(2015, 3, 31, 4, 0), 40], [datetime.datetime(2015, 3, 31, 8, 0), 189], [datetime.datetime(2015, 3, 31, 12, 0), 268], [datetime.datetime(2015, 3, 31, 16, 0), 777], [datetime.datetime(2015, 3, 31, 20, 0), 188], [datetime.datetime(2015, 4, 1, 0, 0), 13], [datetime.datetime(2015, 4, 1, 4, 0), 51], [datetime.datetime(2015, 4, 1, 8, 0), 194], [datetime.datetime(2015, 4, 1, 12, 0), 284], [datetime.datetime(2015, 4, 1, 16, 0), 0]], ('A002', 'R051', '02-00-00', 'LEXINGTON AVE'): [[datetime.datetime(2015, 3, 28, 0, 0), 7263], [datetime.datetime(2015, 3, 28, 4, 0), 7250], [datetime.datetime(2015, 3, 28, 8, 0), 7280], [datetime.datetime(2015, 3, 28, 12, 0), 7317], [datetime.datetime(2015, 3, 28, 16, 0), 7395], [datetime.datetime(2015, 3, 28, 20, 0), 7945], [datetime.datetime(2015, 3, 29, 0, 0), 8077], [datetime.datetime(2015, 3, 29, 4, 0), 8073], [datetime.datetime(2015, 3, 29, 8, 0), 8099], [datetime.datetime(2015, 3, 29, 12, 0), 8189], [datetime.datetime(2015, 3, 29, 16, 0), 8408], [datetime.datetime(2015, 3, 29, 20, 0), 8664], [datetime.datetime(2015, 3, 30, 0, 0), 0], [datetime.datetime(2015, 3, 30, 4, 0), 0], [datetime.datetime(2015, 3, 30, 8, 0), 0], [datetime.datetime(2015, 3, 30, 12, 0), 0], [datetime.datetime(2015, 3, 30, 16, 0), 0], [datetime.datetime(2015, 3, 30, 20, 0), 0], [datetime.datetime(2015, 3, 31, 0, 0), 0], [datetime.datetime(2015, 3, 31, 4, 0), 0], [datetime.datetime(2015, 3, 31, 8, 0), 0], [datetime.datetime(2015, 3, 31, 12, 0), 0], [datetime.datetime(2015, 3, 31, 16, 0), 0], [datetime.datetime(2015, 3, 31, 20, 0), 0], [datetime.datetime(2015, 4, 1, 0, 0), 0], [datetime.datetime(2015, 4, 1, 4, 0), 0], [datetime.datetime(2015, 4, 1, 8, 0), 0], [datetime.datetime(2015, 4, 1, 12, 0), 0], [datetime.datetime(2015, 4, 1, 16, 0), 0], [datetime.datetime(2015, 4, 1, 20, 0), 0], [datetime.datetime(2015, 4, 2, 0, 0), 0], [datetime.datetime(2015, 4, 2, 4, 0), 0], [datetime.datetime(2015, 4, 2, 8, 0), 0], [datetime.datetime(2015, 4, 2, 12, 0), 0], [datetime.datetime(2015, 4, 2, 16, 0), 0], [datetime.datetime(2015, 4, 2, 20, 0), 0], [datetime.datetime(2015, 4, 3, 0, 0), 0], [datetime.datetime(2015, 4, 3, 4, 0), 0], [datetime.datetime(2015, 4, 3, 8, 0), 0], [datetime.datetime(2015, 4, 3, 12, 0), 0], [datetime.datetime(2015, 4, 3, 16, 0), 0], [datetime.datetime(2015, 4, 3, 20, 0), 0]]}\n"
     ]
    }
   ],
   "source": [
    "#Challenge 2\n",
    "import dateutil.parser\n",
    "\n",
    "MTA_Dict_cleaned = {}\n",
    "counter = 0\n",
    "for turnstyle, turnstyle_data in MTA_Dict.iteritems():\n",
    "    #key is the individual terminals.\n",
    "    #value is the list of lists. It contains all rows of a given terminal.\n",
    "\n",
    "    \n",
    "    if turnstyle not in MTA_Dict_cleaned:\n",
    "        MTA_Dict_cleaned[turnstyle] = []\n",
    "    for entry in turnstyle_data:\n",
    "    #this will iterate over every row at a terminal (the list in the list)\n",
    "        counter += 1\n",
    "        temp_list = []\n",
    "        date_time = entry[2] + ' ' + entry[3]\n",
    "        date_time_parsed = dateutil.parser.parse(date_time)\n",
    "        temp_list.append(date_time_parsed)\n",
    "        \n",
    "        entries = int(entry[5])\n",
    "        try:\n",
    "            next_entries = int(turnstyle_data[counter][5])\n",
    "\n",
    "        except IndexError:\n",
    "            next_entries = int(entry[5])\n",
    "                    \n",
    "        customer_count = next_entries - entries\n",
    "        temp_list.append(customer_count)\n",
    "\n",
    "        MTA_Dict_cleaned[turnstyle].append(temp_list)\n",
    "        \n",
    "print MTA_Dict_cleaned"
   ]
  },
  {
   "cell_type": "code",
   "execution_count": null,
   "metadata": {
    "collapsed": true
   },
   "outputs": [],
   "source": [
    "#Challenge 3\n",
    "\n"
   ]
  }
 ],
 "metadata": {
  "kernelspec": {
   "display_name": "Python 2",
   "language": "python",
   "name": "python2"
  },
  "language_info": {
   "codemirror_mode": {
    "name": "ipython",
    "version": 2
   },
   "file_extension": ".py",
   "mimetype": "text/x-python",
   "name": "python",
   "nbconvert_exporter": "python",
   "pygments_lexer": "ipython2",
   "version": "2.7.6"
  }
 },
 "nbformat": 4,
 "nbformat_minor": 0
}
